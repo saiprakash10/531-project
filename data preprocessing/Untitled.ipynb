{
 "cells": [
  {
   "cell_type": "code",
   "execution_count": 1,
   "id": "b40323cf",
   "metadata": {},
   "outputs": [],
   "source": [
    "import pandas as pd"
   ]
  },
  {
   "cell_type": "code",
   "execution_count": 29,
   "id": "c099a258",
   "metadata": {},
   "outputs": [],
   "source": [
    "df5 = pd.read_csv(\"C:/Users/saura/Downloads/adit/data preprocessing/data preprocessing/final_combined.csv\", encoding='windows-1252')"
   ]
  },
  {
   "cell_type": "code",
   "execution_count": 30,
   "id": "c82b1537",
   "metadata": {},
   "outputs": [],
   "source": [
    "df6 = df5['race']"
   ]
  },
  {
   "cell_type": "code",
   "execution_count": 32,
   "id": "75eb5c9f",
   "metadata": {},
   "outputs": [],
   "source": [
    "df6.fillna('O', inplace=True)"
   ]
  },
  {
   "cell_type": "code",
   "execution_count": 33,
   "id": "ea22eea3",
   "metadata": {},
   "outputs": [],
   "source": [
    "df5['race'] = df6"
   ]
  },
  {
   "cell_type": "code",
   "execution_count": 37,
   "id": "fbbe98f6",
   "metadata": {},
   "outputs": [],
   "source": [
    "df7 = df5['flee']"
   ]
  },
  {
   "cell_type": "code",
   "execution_count": 38,
   "id": "9f4a1a1f",
   "metadata": {},
   "outputs": [],
   "source": [
    "df7.fillna('other', inplace=True)"
   ]
  },
  {
   "cell_type": "code",
   "execution_count": 39,
   "id": "d70b3318",
   "metadata": {},
   "outputs": [],
   "source": [
    "df5['flee'] = df7"
   ]
  },
  {
   "cell_type": "code",
   "execution_count": 41,
   "id": "cb620788",
   "metadata": {},
   "outputs": [],
   "source": [
    "df8 = df5['Median Income']"
   ]
  },
  {
   "cell_type": "code",
   "execution_count": 42,
   "id": "fcc38647",
   "metadata": {},
   "outputs": [],
   "source": [
    "df8.fillna('0', inplace=True)"
   ]
  },
  {
   "cell_type": "code",
   "execution_count": 43,
   "id": "9967825e",
   "metadata": {},
   "outputs": [],
   "source": [
    "df5['Median Income'] = df8"
   ]
  },
  {
   "cell_type": "code",
   "execution_count": null,
   "id": "c0f3879a",
   "metadata": {},
   "outputs": [],
   "source": []
  },
  {
   "cell_type": "code",
   "execution_count": null,
   "id": "0f650b5d",
   "metadata": {},
   "outputs": [],
   "source": []
  },
  {
   "cell_type": "code",
   "execution_count": null,
   "id": "3f84e99d",
   "metadata": {},
   "outputs": [],
   "source": []
  },
  {
   "cell_type": "code",
   "execution_count": 45,
   "id": "33a9417c",
   "metadata": {},
   "outputs": [],
   "source": [
    "df5.to_csv(\"C:/Users/saura/Downloads/adit/data preprocessing/data preprocessing/final.csv\", index=False)"
   ]
  }
 ],
 "metadata": {
  "kernelspec": {
   "display_name": "Python 3 (ipykernel)",
   "language": "python",
   "name": "python3"
  },
  "language_info": {
   "codemirror_mode": {
    "name": "ipython",
    "version": 3
   },
   "file_extension": ".py",
   "mimetype": "text/x-python",
   "name": "python",
   "nbconvert_exporter": "python",
   "pygments_lexer": "ipython3",
   "version": "3.9.13"
  }
 },
 "nbformat": 4,
 "nbformat_minor": 5
}
